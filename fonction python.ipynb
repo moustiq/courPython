{
 "cells": [
  {
   "cell_type": "markdown",
   "metadata": {},
   "source": [
    "# fonction\n"
   ]
  },
  {
   "cell_type": "markdown",
   "metadata": {},
   "source": [
    "### creer un dossier"
   ]
  },
  {
   "cell_type": "code",
   "execution_count": 18,
   "metadata": {},
   "outputs": [
    {
     "ename": "SyntaxError",
     "evalue": "invalid syntax (<ipython-input-18-0c9ac0ca6778>, line 7)",
     "output_type": "error",
     "traceback": [
      "\u001b[1;36m  File \u001b[1;32m\"<ipython-input-18-0c9ac0ca6778>\"\u001b[1;36m, line \u001b[1;32m7\u001b[0m\n\u001b[1;33m    if not os.path.exist(dossier): #condition verifie si le dossier existe mthode 1\u001b[0m\n\u001b[1;37m                                 ^\u001b[0m\n\u001b[1;31mSyntaxError\u001b[0m\u001b[1;31m:\u001b[0m invalid syntax\n"
     ]
    }
   ],
   "source": [
    "import os\n",
    "\n",
    "chemin = \"chemin acces au dossier souhaiter\"\n",
    "\n",
    "dossier = os.path.join(chemin, \"dossier_a_creer\", \"sous_dossier_a_creer\"\n",
    "\n",
    "if not os.path.exist(dossier: #condition verifie si le dossier existe mthode 1\n",
    "    os.makedir(dossier) #permet de creer notre dossier et sous dossier\n",
    "\n"
   ]
  },
  {
   "cell_type": "code",
   "execution_count": 22,
   "metadata": {
    "scrolled": true
   },
   "outputs": [
    {
     "ename": "AttributeError",
     "evalue": "module 'os' has no attribute 'makedir'",
     "output_type": "error",
     "traceback": [
      "\u001b[1;31m---------------------------------------------------------------------------\u001b[0m",
      "\u001b[1;31mAttributeError\u001b[0m                            Traceback (most recent call last)",
      "\u001b[1;32m<ipython-input-22-ff526aa39bc3>\u001b[0m in \u001b[0;36m<module>\u001b[1;34m\u001b[0m\n\u001b[1;32m----> 1\u001b[1;33m \u001b[0mos\u001b[0m\u001b[1;33m.\u001b[0m\u001b[0mmakedir\u001b[0m\u001b[1;33m(\u001b[0m\u001b[0mdossier\u001b[0m\u001b[1;33m,\u001b[0m \u001b[0mexist_ok\u001b[0m\u001b[1;33m=\u001b[0m\u001b[1;32mTrue\u001b[0m\u001b[1;33m)\u001b[0m \u001b[1;31m#virifie si le dossier existe methode 2\u001b[0m\u001b[1;33m\u001b[0m\u001b[1;33m\u001b[0m\u001b[0m\n\u001b[0m",
      "\u001b[1;31mAttributeError\u001b[0m: module 'os' has no attribute 'makedir'"
     ]
    }
   ],
   "source": [
    "os.makedir(dossier, exist_ok=True) #virifie si le dossier existe methode 2\n"
   ]
  },
  {
   "cell_type": "markdown",
   "metadata": {},
   "source": [
    "### suprimer un dossier"
   ]
  },
  {
   "cell_type": "code",
   "execution_count": null,
   "metadata": {},
   "outputs": [],
   "source": [
    "if os.path.exists(dossier):#verifie que le dossier existe\n",
    "    os.removedirs(dossier)"
   ]
  },
  {
   "cell_type": "markdown",
   "metadata": {},
   "source": [
    "## voir les fontion d'une fonction"
   ]
  },
  {
   "cell_type": "code",
   "execution_count": 2,
   "metadata": {},
   "outputs": [
    {
     "name": "stdout",
     "output_type": "stream",
     "text": [
      "['BPF', 'LOG4', 'NV_MAGICCONST', 'RECIP_BPF', 'Random', 'SG_MAGICCONST', 'SystemRandom', 'TWOPI', '_BuiltinMethodType', '_MethodType', '_Sequence', '_Set', '__all__', '__builtins__', '__cached__', '__doc__', '__file__', '__loader__', '__name__', '__package__', '__spec__', '_acos', '_bisect', '_ceil', '_cos', '_e', '_exp', '_inst', '_itertools', '_log', '_os', '_pi', '_random', '_sha512', '_sin', '_sqrt', '_test', '_test_generator', '_urandom', '_warn', 'betavariate', 'choice', 'choices', 'expovariate', 'gammavariate', 'gauss', 'getrandbits', 'getstate', 'lognormvariate', 'normalvariate', 'paretovariate', 'randint', 'random', 'randrange', 'sample', 'seed', 'setstate', 'shuffle', 'triangular', 'uniform', 'vonmisesvariate', 'weibullvariate']\n"
     ]
    }
   ],
   "source": [
    "import random\n",
    "\n",
    "print(dir(random)) #dir va permetre de voir toute les fonctions lier"
   ]
  },
  {
   "cell_type": "markdown",
   "metadata": {},
   "source": [
    "les fonction  __ funct __ ne sont pas utilisable"
   ]
  },
  {
   "cell_type": "markdown",
   "metadata": {},
   "source": [
    "### ppprint fonction / callable"
   ]
  },
  {
   "cell_type": "code",
   "execution_count": 1,
   "metadata": {},
   "outputs": [
    {
     "name": "stdout",
     "output_type": "stream",
     "text": [
      "True\n"
     ]
    }
   ],
   "source": [
    "from pprint import pprint\n",
    "\n",
    "print(callable(pprint))#callable permet de voir si la fonction est appelable"
   ]
  },
  {
   "cell_type": "code",
   "execution_count": 9,
   "metadata": {
    "scrolled": true
   },
   "outputs": [
    {
     "name": "stdout",
     "output_type": "stream",
     "text": [
      "['DirEntry',\n",
      " 'F_OK',\n",
      " 'MutableMapping',\n",
      " 'O_APPEND',\n",
      " 'O_BINARY',\n",
      " 'O_CREAT',\n",
      " 'O_EXCL',\n",
      " 'O_NOINHERIT',\n",
      " 'O_RANDOM',\n",
      " 'O_RDONLY',\n",
      " 'O_RDWR',\n",
      " 'O_SEQUENTIAL',\n",
      " 'O_SHORT_LIVED',\n",
      " 'O_TEMPORARY',\n",
      " 'O_TEXT',\n",
      " 'O_TRUNC',\n",
      " 'O_WRONLY',\n",
      " 'P_DETACH',\n",
      " 'P_NOWAIT',\n",
      " 'P_NOWAITO',\n",
      " 'P_OVERLAY',\n",
      " 'P_WAIT',\n",
      " 'PathLike',\n",
      " 'R_OK',\n",
      " 'SEEK_CUR',\n",
      " 'SEEK_END',\n",
      " 'SEEK_SET',\n",
      " 'TMP_MAX',\n",
      " 'W_OK',\n",
      " 'X_OK',\n",
      " '_Environ',\n",
      " '__all__',\n",
      " '__builtins__',\n",
      " '__cached__',\n",
      " '__doc__',\n",
      " '__file__',\n",
      " '__loader__',\n",
      " '__name__',\n",
      " '__package__',\n",
      " '__spec__',\n",
      " '_execvpe',\n",
      " '_exists',\n",
      " '_exit',\n",
      " '_fspath',\n",
      " '_get_exports_list',\n",
      " '_putenv',\n",
      " '_unsetenv',\n",
      " '_wrap_close',\n",
      " 'abc',\n",
      " 'abort',\n",
      " 'access',\n",
      " 'altsep',\n",
      " 'chdir',\n",
      " 'chmod',\n",
      " 'close',\n",
      " 'closerange',\n",
      " 'cpu_count',\n",
      " 'curdir',\n",
      " 'defpath',\n",
      " 'device_encoding',\n",
      " 'devnull',\n",
      " 'dup',\n",
      " 'dup2',\n",
      " 'environ',\n",
      " 'error',\n",
      " 'execl',\n",
      " 'execle',\n",
      " 'execlp',\n",
      " 'execlpe',\n",
      " 'execv',\n",
      " 'execve',\n",
      " 'execvp',\n",
      " 'execvpe',\n",
      " 'extsep',\n",
      " 'fdopen',\n",
      " 'fsdecode',\n",
      " 'fsencode',\n",
      " 'fspath',\n",
      " 'fstat',\n",
      " 'fsync',\n",
      " 'ftruncate',\n",
      " 'get_exec_path',\n",
      " 'get_handle_inheritable',\n",
      " 'get_inheritable',\n",
      " 'get_terminal_size',\n",
      " 'getcwd',\n",
      " 'getcwdb',\n",
      " 'getenv',\n",
      " 'getlogin',\n",
      " 'getpid',\n",
      " 'getppid',\n",
      " 'isatty',\n",
      " 'kill',\n",
      " 'linesep',\n",
      " 'link',\n",
      " 'listdir',\n",
      " 'lseek',\n",
      " 'lstat',\n",
      " 'makedirs',\n",
      " 'mkdir',\n",
      " 'name',\n",
      " 'open',\n",
      " 'pardir',\n",
      " 'path',\n",
      " 'pathsep',\n",
      " 'pipe',\n",
      " 'popen',\n",
      " 'putenv',\n",
      " 'read',\n",
      " 'readlink',\n",
      " 'remove',\n",
      " 'removedirs',\n",
      " 'rename',\n",
      " 'renames',\n",
      " 'replace',\n",
      " 'rmdir',\n",
      " 'scandir',\n",
      " 'sep',\n",
      " 'set_handle_inheritable',\n",
      " 'set_inheritable',\n",
      " 'spawnl',\n",
      " 'spawnle',\n",
      " 'spawnv',\n",
      " 'spawnve',\n",
      " 'st',\n",
      " 'startfile',\n",
      " 'stat',\n",
      " 'stat_result',\n",
      " 'statvfs_result',\n",
      " 'strerror',\n",
      " 'supports_bytes_environ',\n",
      " 'supports_dir_fd',\n",
      " 'supports_effective_ids',\n",
      " 'supports_fd',\n",
      " 'supports_follow_symlinks',\n",
      " 'symlink',\n",
      " 'sys',\n",
      " 'system',\n",
      " 'terminal_size',\n",
      " 'times',\n",
      " 'times_result',\n",
      " 'truncate',\n",
      " 'umask',\n",
      " 'uname_result',\n",
      " 'unlink',\n",
      " 'urandom',\n",
      " 'utime',\n",
      " 'waitpid',\n",
      " 'walk',\n",
      " 'write']\n"
     ]
    }
   ],
   "source": [
    "import os\n",
    "\n",
    "pprint(dir(os)) # pprint permet de voir tous les attribue de la fonction OS"
   ]
  },
  {
   "cell_type": "markdown",
   "metadata": {},
   "source": [
    "## extend / append"
   ]
  },
  {
   "cell_type": "code",
   "execution_count": 7,
   "metadata": {},
   "outputs": [],
   "source": [
    "f_liste = []\n",
    "\n",
    "f_liste.extend([1,2,3,3,5,46,4,8]) # permet d'ajouter pusieur element dans une liste\n",
    "f_liste.append('hello') # permet d'ajouter un seul element"
   ]
  },
  {
   "cell_type": "code",
   "execution_count": 8,
   "metadata": {},
   "outputs": [
    {
     "data": {
      "text/plain": [
       "[1, 2, 3, 3, 5, 46, 4, 8, 'hello']"
      ]
     },
     "execution_count": 8,
     "metadata": {},
     "output_type": "execute_result"
    }
   ],
   "source": [
    "f_liste"
   ]
  },
  {
   "cell_type": "markdown",
   "metadata": {},
   "source": [
    "# liste"
   ]
  },
  {
   "cell_type": "code",
   "execution_count": 13,
   "metadata": {},
   "outputs": [
    {
     "name": "stdout",
     "output_type": "stream",
     "text": [
      "['utilisateur_2', 'utilisateur_4', 'utilisateur_6']\n"
     ]
    }
   ],
   "source": [
    "liste = [\"utilisateur_1\",\n",
    "        \"utilisateur_2\",\n",
    "        \"utilisateur_3\",\n",
    "        \"utilisateur_4\",\n",
    "        \"utilisateur_5\",\n",
    "        \"utilisateur_6\",\n",
    "        \"utilisateur_7\",]\n",
    "\n",
    "print(liste[1:6:2])#on va recuperer un element sur deux, le dernier chiffre correspond au pas/interval"
   ]
  },
  {
   "cell_type": "code",
   "execution_count": 16,
   "metadata": {},
   "outputs": [
    {
     "name": "stdout",
     "output_type": "stream",
     "text": [
      "['utilisateur_7', 'utilisateur_6', 'utilisateur_5', 'utilisateur_4', 'utilisateur_3', 'utilisateur_2', 'utilisateur_1']\n"
     ]
    }
   ],
   "source": [
    "print(liste[::-1])# avec -1 on inverse l'ordre le la liste"
   ]
  },
  {
   "cell_type": "markdown",
   "metadata": {},
   "source": [
    "# index"
   ]
  },
  {
   "cell_type": "code",
   "execution_count": 27,
   "metadata": {},
   "outputs": [],
   "source": [
    "liste = [\"utilisateur_1\",\n",
    "        \"utilisateur_2\",\n",
    "        \"utilisateur_3\",\n",
    "        \"utilisateur_4\",\n",
    "        \"utilisateur_5\",\n",
    "        \"utilisateur_6\",\n",
    "        \"utilisateur_7\",\n",
    "        \"utilisateur_6\",\n",
    "        \"utilisateur_6\",\n",
    "        \"utilisateur_6\"]\n",
    "\n",
    "element = liste.index(\"utilisateur_5\") #donne la place de l'element"
   ]
  },
  {
   "cell_type": "code",
   "execution_count": 28,
   "metadata": {},
   "outputs": [
    {
     "name": "stdout",
     "output_type": "stream",
     "text": [
      "4\n"
     ]
    }
   ],
   "source": [
    "print(element)"
   ]
  },
  {
   "cell_type": "markdown",
   "metadata": {},
   "source": [
    "## count"
   ]
  },
  {
   "cell_type": "code",
   "execution_count": 30,
   "metadata": {},
   "outputs": [
    {
     "name": "stdout",
     "output_type": "stream",
     "text": [
      "4\n"
     ]
    }
   ],
   "source": [
    "element = liste.count(\"utilisateur_6\") #compte le nombre d'occurence\n",
    "print(element)"
   ]
  },
  {
   "cell_type": "markdown",
   "metadata": {},
   "source": [
    "## sort / sorted"
   ]
  },
  {
   "cell_type": "code",
   "execution_count": 31,
   "metadata": {},
   "outputs": [
    {
     "name": "stdout",
     "output_type": "stream",
     "text": [
      "['Carlos', 'Christopher', 'Eric', 'Martine', 'Maxime', 'Michael']\n"
     ]
    }
   ],
   "source": [
    "liste = [\"Maxime\", \"Martine\", \"Christopher\", \"Carlos\", \"Michael\", \"Eric\"]\n",
    "liste.sort() #trier direcment notre liste en ordre alaphabetique\n",
    "\n",
    "print(liste)"
   ]
  },
  {
   "cell_type": "code",
   "execution_count": 34,
   "metadata": {},
   "outputs": [
    {
     "name": "stdout",
     "output_type": "stream",
     "text": [
      "['Carlos', 'Christopher', 'Eric', 'Martine', 'Maxime', 'Michael']\n"
     ]
    }
   ],
   "source": [
    "liste2 = [\"Maxime\", \"Martine\", \"Christopher\", \"Carlos\", \"Michael\", \"Eric\"]\n",
    "t_liste = sorted(liste2) #stoquer notre liste trier dans une nouvelle liste\n",
    "\n",
    "print(t_liste)"
   ]
  },
  {
   "cell_type": "markdown",
   "metadata": {},
   "source": [
    "## reverse"
   ]
  },
  {
   "cell_type": "code",
   "execution_count": 37,
   "metadata": {},
   "outputs": [
    {
     "name": "stdout",
     "output_type": "stream",
     "text": [
      "['Carlos', 'Christopher', 'Eric', 'Martine', 'Maxime', 'Michael']\n"
     ]
    }
   ],
   "source": [
    "t_liste.reverse()#inverse lordre le la liste\n",
    "\n",
    "print(t_liste)"
   ]
  },
  {
   "cell_type": "markdown",
   "metadata": {},
   "source": [
    "## pop"
   ]
  },
  {
   "cell_type": "code",
   "execution_count": 44,
   "metadata": {},
   "outputs": [
    {
     "ename": "IndexError",
     "evalue": "pop index out of range",
     "output_type": "error",
     "traceback": [
      "\u001b[1;31m---------------------------------------------------------------------------\u001b[0m",
      "\u001b[1;31mIndexError\u001b[0m                                Traceback (most recent call last)",
      "\u001b[1;32m<ipython-input-44-ed633abce2cd>\u001b[0m in \u001b[0;36m<module>\u001b[1;34m\u001b[0m\n\u001b[1;32m----> 1\u001b[1;33m \u001b[0mt_liste\u001b[0m\u001b[1;33m.\u001b[0m\u001b[0mpop\u001b[0m\u001b[1;33m(\u001b[0m\u001b[1;36m2\u001b[0m\u001b[1;33m)\u001b[0m\u001b[1;31m# suprime l'element de la liste grace a l'index\u001b[0m\u001b[1;33m\u001b[0m\u001b[1;33m\u001b[0m\u001b[0m\n\u001b[0m\u001b[0;32m      2\u001b[0m \u001b[1;33m\u001b[0m\u001b[0m\n\u001b[0;32m      3\u001b[0m \u001b[0mt_liste\u001b[0m\u001b[1;33m\u001b[0m\u001b[1;33m\u001b[0m\u001b[0m\n",
      "\u001b[1;31mIndexError\u001b[0m: pop index out of range"
     ]
    }
   ],
   "source": [
    "t_liste.pop(2)# suprime l'element de la liste grace a l'index\n",
    "\n",
    "t_liste"
   ]
  },
  {
   "cell_type": "code",
   "execution_count": 43,
   "metadata": {},
   "outputs": [
    {
     "ename": "IndexError",
     "evalue": "pop index out of range",
     "output_type": "error",
     "traceback": [
      "\u001b[1;31m---------------------------------------------------------------------------\u001b[0m",
      "\u001b[1;31mIndexError\u001b[0m                                Traceback (most recent call last)",
      "\u001b[1;32m<ipython-input-43-0faf407250e2>\u001b[0m in \u001b[0;36m<module>\u001b[1;34m\u001b[0m\n\u001b[1;32m----> 1\u001b[1;33m \u001b[0melements\u001b[0m \u001b[1;33m=\u001b[0m \u001b[0mt_liste\u001b[0m\u001b[1;33m.\u001b[0m\u001b[0mpop\u001b[0m\u001b[1;33m(\u001b[0m\u001b[1;36m2\u001b[0m\u001b[1;33m)\u001b[0m \u001b[1;31m#avec une variable on peut stocker pop\u001b[0m\u001b[1;33m\u001b[0m\u001b[1;33m\u001b[0m\u001b[0m\n\u001b[0m\u001b[0;32m      2\u001b[0m \u001b[1;33m\u001b[0m\u001b[0m\n\u001b[0;32m      3\u001b[0m \u001b[0melements\u001b[0m\u001b[1;33m\u001b[0m\u001b[1;33m\u001b[0m\u001b[0m\n",
      "\u001b[1;31mIndexError\u001b[0m: pop index out of range"
     ]
    }
   ],
   "source": [
    "elements = t_liste.pop(2) #avec une variable on peut stocker pop\n",
    "\n",
    "elements"
   ]
  },
  {
   "cell_type": "markdown",
   "metadata": {},
   "source": [
    "## clear"
   ]
  },
  {
   "cell_type": "code",
   "execution_count": 46,
   "metadata": {},
   "outputs": [
    {
     "data": {
      "text/plain": [
       "[]"
      ]
     },
     "execution_count": 46,
     "metadata": {},
     "output_type": "execute_result"
    }
   ],
   "source": [
    "liste.clear()#vide la liste\n",
    "liste"
   ]
  },
  {
   "cell_type": "markdown",
   "metadata": {},
   "source": [
    "## join"
   ]
  },
  {
   "cell_type": "code",
   "execution_count": 5,
   "metadata": {},
   "outputs": [
    {
     "name": "stdout",
     "output_type": "stream",
     "text": [
      "bonjour tout le monde\n",
      "bonjour - .tout - .le - .monde\n"
     ]
    }
   ],
   "source": [
    "j_liste = [\"bonjour\",\"tout\",\"le\",\"monde\"]\n",
    "\n",
    "phrase = \" \".join(j_liste) #on join chaque element de la liste par un espace.\n",
    "phrase2 = \" - .\".join(j_liste)# Il est possible avec plusieur caractere\n",
    "\n",
    "print(phrase)\n",
    "print(phrase2)"
   ]
  },
  {
   "cell_type": "markdown",
   "metadata": {},
   "source": [
    "## continue"
   ]
  },
  {
   "cell_type": "code",
   "execution_count": 2,
   "metadata": {},
   "outputs": [
    {
     "name": "stdout",
     "output_type": "stream",
     "text": [
      "Max\n",
      "Alex\n",
      "Tim\n"
     ]
    }
   ],
   "source": [
    "liste = [\"1\",\"25\",\"32\",\"65\",\"Max\",\"Alex\",\"30\",\"28\",\"Tim\"]\n",
    "\n",
    "for i in liste:\n",
    "    if i.isdigit(): \n",
    "        continue # si c'est un entier on continue la boucle\n",
    "    print(i) #sinon on affiche"
   ]
  },
  {
   "cell_type": "markdown",
   "metadata": {},
   "source": [
    "## break"
   ]
  },
  {
   "cell_type": "code",
   "execution_count": 3,
   "metadata": {},
   "outputs": [],
   "source": [
    "liste = [\"1\",\"25\",\"32\",\"65\",\"Max\",\"Alex\",\"30\",\"28\",\"Tim\"]\n",
    "\n",
    "for i in liste:\n",
    "    if i.isdigit(): \n",
    "        break # si c'est un entier on stop la boucle\n",
    "    print(i) "
   ]
  },
  {
   "cell_type": "markdown",
   "metadata": {},
   "source": [
    "# comprehenssion de liste"
   ]
  },
  {
   "cell_type": "code",
   "execution_count": 9,
   "metadata": {},
   "outputs": [],
   "source": [
    "nb = []\n",
    "i = -100\n",
    "positif = []\n",
    "\n",
    "while i < 100:\n",
    "    nb.append(i)\n",
    "    i += 1\n",
    "for p in nb:\n",
    "    if p > 0:\n",
    "        positif.append(p)\n",
    "        positif.sort()"
   ]
  },
  {
   "cell_type": "code",
   "execution_count": 10,
   "metadata": {},
   "outputs": [
    {
     "name": "stdout",
     "output_type": "stream",
     "text": [
      "[-100, -99, -98, -97, -96, -95, -94, -93, -92, -91, -90, -89, -88, -87, -86, -85, -84, -83, -82, -81, -80, -79, -78, -77, -76, -75, -74, -73, -72, -71, -70, -69, -68, -67, -66, -65, -64, -63, -62, -61, -60, -59, -58, -57, -56, -55, -54, -53, -52, -51, -50, -49, -48, -47, -46, -45, -44, -43, -42, -41, -40, -39, -38, -37, -36, -35, -34, -33, -32, -31, -30, -29, -28, -27, -26, -25, -24, -23, -22, -21, -20, -19, -18, -17, -16, -15, -14, -13, -12, -11, -10, -9, -8, -7, -6, -5, -4, -3, -2, -1, 0, 1, 2, 3, 4, 5, 6, 7, 8, 9, 10, 11, 12, 13, 14, 15, 16, 17, 18, 19, 20, 21, 22, 23, 24, 25, 26, 27, 28, 29, 30, 31, 32, 33, 34, 35, 36, 37, 38, 39, 40, 41, 42, 43, 44, 45, 46, 47, 48, 49, 50, 51, 52, 53, 54, 55, 56, 57, 58, 59, 60, 61, 62, 63, 64, 65, 66, 67, 68, 69, 70, 71, 72, 73, 74, 75, 76, 77, 78, 79, 80, 81, 82, 83, 84, 85, 86, 87, 88, 89, 90, 91, 92, 93, 94, 95, 96, 97, 98, 99]\n"
     ]
    }
   ],
   "source": [
    "print(nb)"
   ]
  },
  {
   "cell_type": "code",
   "execution_count": 11,
   "metadata": {},
   "outputs": [
    {
     "name": "stdout",
     "output_type": "stream",
     "text": [
      "[1, 2, 3, 4, 5, 6, 7, 8, 9, 10, 11, 12, 13, 14, 15, 16, 17, 18, 19, 20, 21, 22, 23, 24, 25, 26, 27, 28, 29, 30, 31, 32, 33, 34, 35, 36, 37, 38, 39, 40, 41, 42, 43, 44, 45, 46, 47, 48, 49, 50, 51, 52, 53, 54, 55, 56, 57, 58, 59, 60, 61, 62, 63, 64, 65, 66, 67, 68, 69, 70, 71, 72, 73, 74, 75, 76, 77, 78, 79, 80, 81, 82, 83, 84, 85, 86, 87, 88, 89, 90, 91, 92, 93, 94, 95, 96, 97, 98, 99]\n"
     ]
    }
   ],
   "source": [
    "print(positif)"
   ]
  },
  {
   "cell_type": "markdown",
   "metadata": {},
   "source": [
    "### methode 2 comprehenssion liste"
   ]
  },
  {
   "cell_type": "code",
   "execution_count": 5,
   "metadata": {},
   "outputs": [],
   "source": [
    "negatif = [p for p in nb if p <= 0]"
   ]
  },
  {
   "cell_type": "code",
   "execution_count": 12,
   "metadata": {},
   "outputs": [
    {
     "name": "stdout",
     "output_type": "stream",
     "text": [
      "[-100, -99, -98, -97, -96, -95, -94, -93, -92, -91, -90, -89, -88, -87, -86, -85, -84, -83, -82, -81, -80, -79, -78, -77, -76, -75, -74, -73, -72, -71, -70, -69, -68, -67, -66, -65, -64, -63, -62, -61, -60, -59, -58, -57, -56, -55, -54, -53, -52, -51, -50, -49, -48, -47, -46, -45, -44, -43, -42, -41, -40, -39, -38, -37, -36, -35, -34, -33, -32, -31, -30, -29, -28, -27, -26, -25, -24, -23, -22, -21, -20, -19, -18, -17, -16, -15, -14, -13, -12, -11, -10, -9, -8, -7, -6, -5, -4, -3, -2, -1, 0]\n"
     ]
    }
   ],
   "source": [
    "print(negatif)"
   ]
  },
  {
   "cell_type": "markdown",
   "metadata": {},
   "source": [
    "# splitline"
   ]
  },
  {
   "cell_type": "code",
   "execution_count": null,
   "metadata": {},
   "outputs": [],
   "source": [
    "with open(fichier , \"r\") as f:\n",
    "    contenue = f.read().splitline() #permet de prendre chaque element du fichier separer par un retour a la ligne\n",
    "                                    # et le mettre dans une liste"
   ]
  },
  {
   "cell_type": "markdown",
   "metadata": {},
   "source": [
    "# fichier JSON"
   ]
  },
  {
   "cell_type": "code",
   "execution_count": 29,
   "metadata": {},
   "outputs": [],
   "source": [
    "import json\n",
    "\n",
    "with open(\"fichier.json\" , \"w\") as f:\n",
    "    json.dump(list(range(10)),f, indent = 4) # permet d'ecrir le fichier json avec une indentation de 4\n",
    "    "
   ]
  },
  {
   "cell_type": "code",
   "execution_count": 30,
   "metadata": {},
   "outputs": [],
   "source": [
    "with open(\"fichier.json\" , \"a\") as f: # methode \"A\" pour ajouter des donnees dans le fichier sans ecraser les donnees precedente\n",
    "    json.dump(list(range(20)),f, indent = 4)"
   ]
  },
  {
   "cell_type": "code",
   "execution_count": 33,
   "metadata": {
    "scrolled": true
   },
   "outputs": [
    {
     "name": "stdout",
     "output_type": "stream",
     "text": [
      "[\n",
      "    0,\n",
      "    1,\n",
      "    2,\n",
      "    3,\n",
      "    4,\n",
      "    5,\n",
      "    6,\n",
      "    7,\n",
      "    8,\n",
      "    9\n",
      "][\n",
      "    0,\n",
      "    1,\n",
      "    2,\n",
      "    3,\n",
      "    4,\n",
      "    5,\n",
      "    6,\n",
      "    7,\n",
      "    8,\n",
      "    9,\n",
      "    10,\n",
      "    11,\n",
      "    12,\n",
      "    13,\n",
      "    14,\n",
      "    15,\n",
      "    16,\n",
      "    17,\n",
      "    18,\n",
      "    19\n",
      "]\n"
     ]
    }
   ],
   "source": [
    "#import json\n",
    "with open(\"fichier.json\", \"r\") as f:\n",
    "    liste = f.read() #lire les donnees de notre fichier json\n",
    "    print(liste)"
   ]
  },
  {
   "cell_type": "markdown",
   "metadata": {},
   "source": [
    "# dictionnaire"
   ]
  },
  {
   "cell_type": "code",
   "execution_count": 1,
   "metadata": {},
   "outputs": [],
   "source": [
    "dico = {\"moto\" : 650,\n",
    "        \"voiture\" : \"inutile\", #\"clef\" : \"value\"\n",
    "       \"bateau\" : \"abuser\"}"
   ]
  },
  {
   "cell_type": "markdown",
   "metadata": {},
   "source": [
    "## multi dico"
   ]
  },
  {
   "cell_type": "code",
   "execution_count": 27,
   "metadata": {},
   "outputs": [],
   "source": [
    "dic = { # les clef d'un dico est unique impossible d'avoir deux fois la meme\n",
    "    \n",
    "        0:{\"paul\" : \"travail\",\n",
    "          \"pierre\" : \"chomage\",\n",
    "          \"jean\" : \"abatoire\"},# ne pas oublier la virgule en cas de plusieur dico\n",
    "    \n",
    "        1:{\"voiture1\" : \"berline\",\n",
    "          \"voiture2\" : \"sport\",\n",
    "          \"voiture3\" : \"4x4\"},\n",
    "    \n",
    "        3:{\"travail1\" : \"eboueur\",\n",
    "          \"travail2\" : \"cadre\",\n",
    "          \"travail3\" : \"jardinier\"} #dernier dico pas de vergule\n",
    "}"
   ]
  },
  {
   "cell_type": "code",
   "execution_count": 28,
   "metadata": {},
   "outputs": [
    {
     "data": {
      "text/plain": [
       "'travail'"
      ]
     },
     "execution_count": 28,
     "metadata": {},
     "output_type": "execute_result"
    }
   ],
   "source": [
    "dic[0][\"paul\"]"
   ]
  },
  {
   "cell_type": "code",
   "execution_count": 29,
   "metadata": {},
   "outputs": [
    {
     "data": {
      "text/plain": [
       "\"la clef n'existe pas ! \""
      ]
     },
     "execution_count": 29,
     "metadata": {},
     "output_type": "execute_result"
    }
   ],
   "source": [
    "dic.get(\"val\",\"la clef n'existe pas ! \") #get verifie que la clef entré exite et si elle existe pas on affiche un message\n",
    "                                            #get ne recupere pas la valeur associer a la clef"
   ]
  },
  {
   "cell_type": "code",
   "execution_count": 30,
   "metadata": {},
   "outputs": [],
   "source": [
    "dic[\"travail1\"] = \"dev\" #modifie la valeur d'un dictionnaire"
   ]
  },
  {
   "cell_type": "code",
   "execution_count": 34,
   "metadata": {},
   "outputs": [],
   "source": [
    "if \"voiture1\" in dic[1]:\n",
    "    del dic[1][\"voiture1\"] #suprime une clef"
   ]
  },
  {
   "cell_type": "code",
   "execution_count": null,
   "metadata": {},
   "outputs": [],
   "source": []
  }
 ],
 "metadata": {
  "kernelspec": {
   "display_name": "Python 3",
   "language": "python",
   "name": "python3"
  },
  "language_info": {
   "codemirror_mode": {
    "name": "ipython",
    "version": 3
   },
   "file_extension": ".py",
   "mimetype": "text/x-python",
   "name": "python",
   "nbconvert_exporter": "python",
   "pygments_lexer": "ipython3",
   "version": "3.6.5"
  }
 },
 "nbformat": 4,
 "nbformat_minor": 4
}
