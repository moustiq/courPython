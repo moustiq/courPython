{
 "cells": [
  {
   "cell_type": "code",
   "execution_count": 1,
   "metadata": {},
   "outputs": [
    {
     "ename": "SyntaxError",
     "evalue": "invalid syntax (<ipython-input-1-1586030a7700>, line 1)",
     "output_type": "error",
     "traceback": [
      "\u001b[1;36m  File \u001b[1;32m\"<ipython-input-1-1586030a7700>\"\u001b[1;36m, line \u001b[1;32m1\u001b[0m\n\u001b[1;33m    Ci-dessous, vous trouverez une liste non-exhaustive des fonctions les plus utilisés et disponibles dans le module math :\u001b[0m\n\u001b[1;37m                             ^\u001b[0m\n\u001b[1;31mSyntaxError\u001b[0m\u001b[1;31m:\u001b[0m invalid syntax\n"
     ]
    }
   ],
   "source": [
    "Ci-dessous, vous trouverez une liste non-exhaustive des fonctions les plus utilisés et disponibles dans le module math :\n",
    "\n",
    "    math.ceil(-4.7) : entier immédiatement supérieur, donne ici -4.\n",
    "\n",
    "    math.exp(2) : exponentielle.\n",
    "\n",
    "    math.factorial(5) : factorielle 5, donc 120 ici (fonctionne uniquement pour les entiers positifs).\n",
    "\n",
    "    math.floor(-4.7) : partie entière, donne ici -5.\n",
    "\n",
    "    math.isinf(x) : teste si x est infini (inf) et renvoie True si c'est le cas.\n",
    "\n",
    "    math.log(2) : logarithme en base naturelle.\n",
    "\n",
    "    math.log(8, 2) : log de 8 en base 2.\n",
    "\n",
    "    math.log10(2) : logarithme en base 10.\n",
    "\n",
    "    math.pow(2, 3) : 2 puissance 3 (peut aussi s'écrire 2 ** 3).\n",
    "\n",
    "    math.sqrt(16) : racine carrée, donne ici 4.\n",
    "\n",
    "    fonctions trigonométriques : math.sin, math.cos, math.tan, math.asin, math.acos, math.atan (argument en radians).\n",
    "\n",
    "    fonctions hyperboliques : math.sinh, math.cosh, math.tanh, math.asinh, math.acosh, math.atanh.\n",
    "\n",
    "    math.degrees(x) : convertit de radians en degrés.\n",
    "\n",
    "    math.radians(x) : convertit de degrés en radians.\n",
    "\n",
    "Les constantes :\n",
    "\n",
    "    math.pi (3.14159...)\n",
    "\n",
    "    math.e (2.71828...)"
   ]
  },
  {
   "cell_type": "code",
   "execution_count": null,
   "metadata": {},
   "outputs": [],
   "source": []
  }
 ],
 "metadata": {
  "kernelspec": {
   "display_name": "Python 3",
   "language": "python",
   "name": "python3"
  },
  "language_info": {
   "codemirror_mode": {
    "name": "ipython",
    "version": 3
   },
   "file_extension": ".py",
   "mimetype": "text/x-python",
   "name": "python",
   "nbconvert_exporter": "python",
   "pygments_lexer": "ipython3",
   "version": "3.7.6"
  }
 },
 "nbformat": 4,
 "nbformat_minor": 4
}
