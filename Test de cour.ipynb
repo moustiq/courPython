{
 "cells": [
  {
   "cell_type": "code",
   "execution_count": 5,
   "metadata": {},
   "outputs": [
    {
     "ename": "TypeError",
     "evalue": "unsupported operand type(s) for +: 'int' and 'str'",
     "output_type": "error",
     "traceback": [
      "\u001b[1;31m---------------------------------------------------------------------------\u001b[0m",
      "\u001b[1;31mTypeError\u001b[0m                                 Traceback (most recent call last)",
      "\u001b[1;32m<ipython-input-5-3692b73e0b00>\u001b[0m in \u001b[0;36m<module>\u001b[1;34m\u001b[0m\n\u001b[0;32m      1\u001b[0m \u001b[0ma\u001b[0m \u001b[1;33m=\u001b[0m \u001b[1;36m5\u001b[0m\u001b[1;33m\u001b[0m\u001b[1;33m\u001b[0m\u001b[0m\n\u001b[0;32m      2\u001b[0m \u001b[0mb\u001b[0m \u001b[1;33m=\u001b[0m \u001b[1;34m\"10\"\u001b[0m\u001b[1;33m\u001b[0m\u001b[1;33m\u001b[0m\u001b[0m\n\u001b[1;32m----> 3\u001b[1;33m \u001b[0mprint\u001b[0m\u001b[1;33m(\u001b[0m\u001b[1;34mf\"Le résultat de l'addition de {a} avec {b} est égal à {a + b}\"\u001b[0m\u001b[1;33m)\u001b[0m\u001b[1;33m\u001b[0m\u001b[1;33m\u001b[0m\u001b[0m\n\u001b[0m\u001b[0;32m      4\u001b[0m \u001b[1;33m\u001b[0m\u001b[0m\n",
      "\u001b[1;31mTypeError\u001b[0m: unsupported operand type(s) for +: 'int' and 'str'"
     ]
    }
   ],
   "source": [
    "a = 5\n",
    "b = \"10\"\n",
    "print(f\"Le résultat de l'addition de {a} avec {b} est égal à {a + b}\")\n",
    "      "
   ]
  },
  {
   "cell_type": "code",
   "execution_count": 1,
   "metadata": {},
   "outputs": [
    {
     "name": "stdout",
     "output_type": "stream",
     "text": [
      "entre un premier nombre : 5\n",
      "entre un deuxieme nombre : 10\n",
      "Le resusltat de 5 et 10 est : 15\n"
     ]
    }
   ],
   "source": [
    "first_nb = input(\"entre un premier nombre : \")\n",
    "second_nb = input(\"entre un deuxieme nombre : \")\n",
    "\n",
    "first_nb = int(first_nb)\n",
    "second_nb = int(second_nb)\n",
    "\n",
    "result = first_nb + second_nb\n",
    "\n",
    "print(\"Le resusltat de {} et {} est : {}\".format(first_nb, second_nb, result))"
   ]
  },
  {
   "cell_type": "code",
   "execution_count": 4,
   "metadata": {},
   "outputs": [
    {
     "name": "stdout",
     "output_type": "stream",
     "text": [
      "J'ai une classe de 30 élèves\n",
      "10 + 5 est égal à 15\n",
      "105\n",
      "L'addition de 10 + 5 est égal à 15\n"
     ]
    }
   ],
   "source": [
    "a = \"J'ai une classe de \" + str(30) + \" élèves\"\n",
    "b = str(10) + \" + \" + \"5\" + \" est égal à \" + str(15)\n",
    "c = str(10) + \"5\"\n",
    "d = \"L'addition de 10 + 5 est égal à \" + str(10 + 5)\n",
    "\n",
    "print(a)\n",
    "print(b)\n",
    "print(c)\n",
    "print(d)"
   ]
  },
  {
   "cell_type": "code",
   "execution_count": 7,
   "metadata": {},
   "outputs": [
    {
     "data": {
      "text/plain": [
       "3"
      ]
     },
     "execution_count": 7,
     "metadata": {},
     "output_type": "execute_result"
    }
   ],
   "source": [
    "10 // 3"
   ]
  },
  {
   "cell_type": "code",
   "execution_count": 10,
   "metadata": {},
   "outputs": [
    {
     "name": "stdout",
     "output_type": "stream",
     "text": [
      "trouve le nombre mystere : 7\n"
     ]
    },
    {
     "data": {
      "text/plain": [
       "True"
      ]
     },
     "execution_count": 10,
     "metadata": {},
     "output_type": "execute_result"
    }
   ],
   "source": [
    "nb_mystere = 7\n",
    "\n",
    "nb_user = input(\"trouve le nombre mystere : \")\n",
    "nb_user = int(nb_user)\n",
    "\n",
    "nb_mystere == nb_user\n"
   ]
  },
  {
   "cell_type": "code",
   "execution_count": 15,
   "metadata": {},
   "outputs": [
    {
     "name": "stdout",
     "output_type": "stream",
     "text": [
      "ouaaah ca envoie !!!\n"
     ]
    }
   ],
   "source": [
    "moto = 900\n",
    "\n",
    "if moto < 300:\n",
    "    print(\"petite cylindre !\")\n",
    "elif moto >= 500 and moto < 750:\n",
    "    print(\"ca commence a etre interessant ! \")\n",
    "elif moto >= 800 and moto < 1000:\n",
    "    print(\"ouaaah ca envoie !!!\")\n",
    "else:\n",
    "    print(\"le circuit t'attend !!! \")\n",
    "    "
   ]
  },
  {
   "cell_type": "code",
   "execution_count": 19,
   "metadata": {},
   "outputs": [
    {
     "name": "stdout",
     "output_type": "stream",
     "text": [
      "Trouve le nombre mystere , entre un nombre : 7\n",
      "bravo tu as trouver le nombre !! \n"
     ]
    }
   ],
   "source": [
    "nb_mystere = 7\n",
    "nb_user = input(\"Quel est le nombre mystère ? \")\n",
    "nb_user = int(nb_user)\n",
    "\n",
    "if nb_user > nb_mystere:\n",
    "    print(\"le nombre est trop grand\")\n",
    "elif nb_user < nb_mystere:\n",
    "    print(\"le nombre est trop petit\")\n",
    "elif nb_user == nb_mystere:\n",
    "    print(\"bravo tu as trouver le nombre !! \")"
   ]
  },
  {
   "cell_type": "markdown",
   "metadata": {},
   "source": [
    "## random"
   ]
  },
  {
   "cell_type": "code",
   "execution_count": 7,
   "metadata": {},
   "outputs": [
    {
     "name": "stdout",
     "output_type": "stream",
     "text": [
      "Le nombre b est plus grand que le nombre a\n"
     ]
    }
   ],
   "source": [
    "import random\n",
    "\n",
    "a = random.randint(0, 15)\n",
    "b = random.randint(0, 26)\n",
    "\n",
    "if b > a:\n",
    "    print(\"Le nombre b est plus grand que le nombre a\")\n",
    "elif a > b:\n",
    "    print(\"Le nombre a est plus grand que le nombre b\")\n",
    "else:\n",
    "    print(\"Le nombre a et le nombre b sont égaux\")"
   ]
  },
  {
   "cell_type": "code",
   "execution_count": 3,
   "metadata": {},
   "outputs": [
    {
     "name": "stdout",
     "output_type": "stream",
     "text": [
      "Quel est le nombre mystère ? 8\n",
      "le nombre est trop petit, le nombre mystere est 70\n"
     ]
    }
   ],
   "source": [
    "import random\n",
    "\n",
    "nb_mystere = random.randrange(100)\n",
    "\n",
    "nb_user = input(\"Quel est le nombre mystère ? \")\n",
    "nb_user = int(nb_user)\n",
    "\n",
    "if nb_user > nb_mystere:\n",
    "    print(\"le nombre est trop grand, le nombre mystere est {}\".format(nb_mystere))\n",
    "elif nb_user < nb_mystere:\n",
    "    print(\"le nombre est trop petit, le nombre mystere est {}\".format(nb_mystere))\n",
    "elif nb_user == nb_mystere:\n",
    "    print(\"bravo tu as trouver le nombre !! \")"
   ]
  },
  {
   "cell_type": "code",
   "execution_count": 10,
   "metadata": {},
   "outputs": [
    {
     "name": "stdout",
     "output_type": "stream",
     "text": [
      "1\n",
      "1\n"
     ]
    }
   ],
   "source": [
    "nombres = [1, 2, 3, 4, 5, 4, 3, 2, 1]\n",
    "nombre_premier = nombres[0]\n",
    "nombre_dernier = nombres[-1]\n",
    "\n",
    "print(nombre_premier)\n",
    "print(nombre_dernier)"
   ]
  },
  {
   "cell_type": "code",
   "execution_count": 15,
   "metadata": {},
   "outputs": [
    {
     "data": {
      "text/plain": [
       "['Java', 'C++']"
      ]
     },
     "execution_count": 15,
     "metadata": {},
     "output_type": "execute_result"
    }
   ],
   "source": [
    "liste = [\"Java\", \"Python\", \"C++\"]\n",
    "\n",
    "liste.remove(\"Python\")\n",
    "liste"
   ]
  },
  {
   "cell_type": "code",
   "execution_count": 35,
   "metadata": {},
   "outputs": [],
   "source": [
    "liste = [\"Maxime\", \"Martine\", \"Christopher\", \"Carlos\", \"Michael\", \"Eric\"]\n",
    "\n",
    "trois_premiers = liste[:3]\n",
    "trois_derniers = liste[3:]\n",
    "milieu = liste[1:-1]\n",
    "premier_dernier = liste[0::5]"
   ]
  },
  {
   "cell_type": "code",
   "execution_count": 36,
   "metadata": {},
   "outputs": [
    {
     "name": "stdout",
     "output_type": "stream",
     "text": [
      "['Maxime', 'Martine', 'Christopher']\n",
      "['Carlos', 'Michael', 'Eric']\n",
      "['Martine', 'Christopher', 'Carlos', 'Michael']\n",
      "['Maxime', 'Eric']\n"
     ]
    }
   ],
   "source": [
    "print(trois_premiers)\n",
    "print(trois_derniers)\n",
    "print(milieu)\n",
    "print(premier_dernier)"
   ]
  },
  {
   "cell_type": "code",
   "execution_count": 1,
   "metadata": {},
   "outputs": [],
   "source": [
    "liste = [1, 2, 3, 4, 5]\n",
    "liste.append(6)"
   ]
  },
  {
   "cell_type": "code",
   "execution_count": 2,
   "metadata": {},
   "outputs": [
    {
     "data": {
      "text/plain": [
       "[1, 2, 3, 4, 5, 6]"
      ]
     },
     "execution_count": 2,
     "metadata": {},
     "output_type": "execute_result"
    }
   ],
   "source": [
    "liste"
   ]
  },
  {
   "cell_type": "code",
   "execution_count": 3,
   "metadata": {},
   "outputs": [
    {
     "name": "stdout",
     "output_type": "stream",
     "text": [
      "Le nombre 6 a bien ete ajouter a la liste\n"
     ]
    }
   ],
   "source": [
    "if 6 in liste:\n",
    "    print(\"Le nombre 6 a bien ete ajouter a la liste\")"
   ]
  },
  {
   "cell_type": "code",
   "execution_count": 40,
   "metadata": {},
   "outputs": [],
   "source": [
    "langages = [[\"Python\", \"C++\"], \"Java\"]\n",
    "nombres = [1, [4, [2, 3]], 5, [6], [[7]]]\n",
    "\n",
    "python = langages[0][0]\n",
    "deux = nombres[1][1][0]\n",
    "sept = nombres[4][0][0]\n"
   ]
  },
  {
   "cell_type": "code",
   "execution_count": 41,
   "metadata": {},
   "outputs": [
    {
     "name": "stdout",
     "output_type": "stream",
     "text": [
      "Python\n",
      "2\n",
      "7\n"
     ]
    }
   ],
   "source": [
    "print(python)\n",
    "print(deux)\n",
    "print(sept)"
   ]
  },
  {
   "cell_type": "code",
   "execution_count": 6,
   "metadata": {},
   "outputs": [
    {
     "name": "stdout",
     "output_type": "stream",
     "text": [
      "Le Seigneur Des Anneaux\n"
     ]
    }
   ],
   "source": [
    "film = \"le seigneur des anneaux\"\n",
    "titre = film.title()\n",
    "print(titre)"
   ]
  },
  {
   "cell_type": "code",
   "execution_count": 4,
   "metadata": {},
   "outputs": [
    {
     "name": "stdout",
     "output_type": "stream",
     "text": [
      "Entrez un mot de passe (min 8 caractères) : cococ\n",
      "Votre mot de passe est trop court.\n"
     ]
    }
   ],
   "source": [
    "mdp = input(\"Entrez un mot de passe (min 8 caractères) : \")\n",
    "\n",
    "mdp_trop_court = \"votre mot de passe est trop court.\"\n",
    "\n",
    "if len(mdp) == 0:\n",
    "    print(mdp_trop_court.upper()) #met tout en majuscule\n",
    "elif len(mdp) < 8:\n",
    "    print(mdp_trop_court.capitalize())#met la premiere lettre en maj\n",
    "elif mdp.isdigit(): # verifi qu'il y a que des nombre\n",
    "    print(\"Votre mot de passe ne contient que des nombres.\")\n",
    "else:\n",
    "    print(\"Inscription terminée.\")\n"
   ]
  },
  {
   "cell_type": "code",
   "execution_count": null,
   "metadata": {},
   "outputs": [],
   "source": [
    "mdp = input(\"Entrez un mot de passe (min 8 caractères) : \")\n",
    "\n",
    "longeur = len(mdp)\n",
    "\n",
    "print(longeur)"
   ]
  },
  {
   "cell_type": "markdown",
   "metadata": {},
   "source": [
    "## exercice nb mystere v2"
   ]
  },
  {
   "cell_type": "code",
   "execution_count": 4,
   "metadata": {},
   "outputs": [
    {
     "name": "stdout",
     "output_type": "stream",
     "text": [
      "Quel est le nombre mystère ? d\n",
      "entrez un nombre\n"
     ]
    }
   ],
   "source": [
    "import random\n",
    "\n",
    "nb_mystere = random.randrange(100)\n",
    "\n",
    "nb_user = input(\"Quel est le nombre mystère ? \")\n",
    "\n",
    "if not nb_user.isdigit():\n",
    "    print(\"Entrez un nombre.\")\n",
    "    exit()\n",
    "    \n",
    "nb_user = int(nb_user)\n",
    "\n",
    "if nb_user > nb_mystere:\n",
    "    print(\"le nombre est trop grand, le nombre mystere est {}\".format(nb_mystere))\n",
    "elif nb_user < nb_mystere:\n",
    "    print(\"le nombre est trop petit, le nombre mystere est {}\".format(nb_mystere))\n",
    "elif nb_user == nb_mystere:\n",
    "    print(\"bravo tu as trouver le nombre !! \")"
   ]
  },
  {
   "cell_type": "markdown",
   "metadata": {},
   "source": [
    "### solution 2 "
   ]
  },
  {
   "cell_type": "code",
   "execution_count": 5,
   "metadata": {},
   "outputs": [
    {
     "name": "stdout",
     "output_type": "stream",
     "text": [
      "Quel est le nombre mystère ? d\n",
      "Entrez un nombre.\n"
     ]
    }
   ],
   "source": [
    "import random\n",
    "\n",
    "nb_mystere = random.randrange(100)\n",
    "\n",
    "nb_user = input(\"Quel est le nombre mystère ? \")\n",
    "\n",
    "if nb_user.isdigit():\n",
    "    if nb_user > nb_mystere:\n",
    "        print(\"le nombre est trop grand, le nombre mystere est {}\".format(nb_mystere))\n",
    "    elif nb_user < nb_mystere:\n",
    "        print(\"le nombre est trop petit, le nombre mystere est {}\".format(nb_mystere))\n",
    "    elif nb_user == nb_mystere:\n",
    "        print(\"bravo tu as trouver le nombre !! \")\n",
    "else:\n",
    "    print(\"Entrez un nombre.\")"
   ]
  },
  {
   "cell_type": "markdown",
   "metadata": {},
   "source": [
    "# compehension de liste"
   ]
  },
  {
   "cell_type": "markdown",
   "metadata": {},
   "source": [
    "## traitement liste boucle for et while"
   ]
  },
  {
   "cell_type": "code",
   "execution_count": 9,
   "metadata": {},
   "outputs": [],
   "source": [
    "nb = []\n",
    "i = -100\n",
    "positif = []\n",
    "\n",
    "while i < 100:\n",
    "    nb.append(i)\n",
    "    i += 1\n",
    "\n",
    "for p in nb:\n",
    "    if p > -100:\n",
    "        positif.append(p)\n",
    "        positif.sort()"
   ]
  },
  {
   "cell_type": "code",
   "execution_count": 10,
   "metadata": {},
   "outputs": [
    {
     "name": "stdout",
     "output_type": "stream",
     "text": [
      "[-99, -98, -97, -96, -95, -94, -93, -92, -91, -90, -89, -88, -87, -86, -85, -84, -83, -82, -81, -80, -79, -78, -77, -76, -75, -74, -73, -72, -71, -70, -69, -68, -67, -66, -65, -64, -63, -62, -61, -60, -59, -58, -57, -56, -55, -54, -53, -52, -51, -50, -49, -48, -47, -46, -45, -44, -43, -42, -41, -40, -39, -38, -37, -36, -35, -34, -33, -32, -31, -30, -29, -28, -27, -26, -25, -24, -23, -22, -21, -20, -19, -18, -17, -16, -15, -14, -13, -12, -11, -10, -9, -8, -7, -6, -5, -4, -3, -2, -1, 0, 1, 2, 3, 4, 5, 6, 7, 8, 9, 10, 11, 12, 13, 14, 15, 16, 17, 18, 19, 20, 21, 22, 23, 24, 25, 26, 27, 28, 29, 30, 31, 32, 33, 34, 35, 36, 37, 38, 39, 40, 41, 42, 43, 44, 45, 46, 47, 48, 49, 50, 51, 52, 53, 54, 55, 56, 57, 58, 59, 60, 61, 62, 63, 64, 65, 66, 67, 68, 69, 70, 71, 72, 73, 74, 75, 76, 77, 78, 79, 80, 81, 82, 83, 84, 85, 86, 87, 88, 89, 90, 91, 92, 93, 94, 95, 96, 97, 98, 99]\n"
     ]
    }
   ],
   "source": [
    "print(positif)"
   ]
  },
  {
   "cell_type": "markdown",
   "metadata": {},
   "source": [
    "##  deuxieme methode boucle + liste"
   ]
  },
  {
   "cell_type": "code",
   "execution_count": 15,
   "metadata": {},
   "outputs": [],
   "source": [
    "negatif = [p for p in nb if p <= 0]"
   ]
  },
  {
   "cell_type": "code",
   "execution_count": 16,
   "metadata": {},
   "outputs": [
    {
     "name": "stdout",
     "output_type": "stream",
     "text": [
      "[-100, -99, -98, -97, -96, -95, -94, -93, -92, -91, -90, -89, -88, -87, -86, -85, -84, -83, -82, -81, -80, -79, -78, -77, -76, -75, -74, -73, -72, -71, -70, -69, -68, -67, -66, -65, -64, -63, -62, -61, -60, -59, -58, -57, -56, -55, -54, -53, -52, -51, -50, -49, -48, -47, -46, -45, -44, -43, -42, -41, -40, -39, -38, -37, -36, -35, -34, -33, -32, -31, -30, -29, -28, -27, -26, -25, -24, -23, -22, -21, -20, -19, -18, -17, -16, -15, -14, -13, -12, -11, -10, -9, -8, -7, -6, -5, -4, -3, -2, -1, 0]\n"
     ]
    }
   ],
   "source": [
    "print(negatif)"
   ]
  },
  {
   "cell_type": "code",
   "execution_count": 17,
   "metadata": {},
   "outputs": [
    {
     "name": "stdout",
     "output_type": "stream",
     "text": [
      "[44, 4, 38]\n"
     ]
    }
   ],
   "source": [
    "nombres = [1, 21, 5, 44, 4, 9, 5, 83, 29, 31, 25, 38]\n",
    "nombres_pairs = [i for i in nombres if i % 2 == 0]\n",
    "\n",
    "print(nombres_pairs)"
   ]
  },
  {
   "cell_type": "code",
   "execution_count": 25,
   "metadata": {},
   "outputs": [
    {
     "name": "stdout",
     "output_type": "stream",
     "text": [
      "[0, 1, 2, 3, 4, 5, 6, 7, 8, 9]\n"
     ]
    }
   ],
   "source": [
    "nombres = range(-10, 10)\n",
    "nombres_positifs = [i for i in nombres if i >= 0]\n",
    "\n",
    "print(nombres_positifs)"
   ]
  },
  {
   "cell_type": "code",
   "execution_count": 41,
   "metadata": {},
   "outputs": [
    {
     "name": "stdout",
     "output_type": "stream",
     "text": [
      "[0, 2, 4, 6, 8]\n"
     ]
    }
   ],
   "source": [
    "nombres = range(5)\n",
    "nombres_doubles = [i * 2 for i in nombres]\n",
    "\n",
    "print(nombres_doubles)"
   ]
  },
  {
   "cell_type": "code",
   "execution_count": 42,
   "metadata": {},
   "outputs": [
    {
     "name": "stdout",
     "output_type": "stream",
     "text": [
      "[0, -1, 2, -3, 4, -5, 6, -7, 8, -9]\n"
     ]
    }
   ],
   "source": [
    "nombres = range(10)\n",
    "nombres_inverses = [i if i % 2 == 0 else -i for i in nombres]\n",
    "\n",
    "print(nombres_inverses)"
   ]
  },
  {
   "cell_type": "code",
   "execution_count": 53,
   "metadata": {},
   "outputs": [
    {
     "name": "stdout",
     "output_type": "stream",
     "text": [
      "utilisateur 1\n",
      "utilisateur 2\n",
      "utilisateur 3\n",
      "utilisateur 4\n",
      "utilisateur 5\n",
      "utilisateur 6\n",
      "utilisateur 7\n",
      "utilisateur 8\n",
      "utilisateur 9\n",
      "utilisateur 10\n"
     ]
    }
   ],
   "source": [
    "i = 1\n",
    "while i < 11:\n",
    "    print(f\"utilisateur {i}\")\n",
    "    i += 1"
   ]
  },
  {
   "cell_type": "code",
   "execution_count": 70,
   "metadata": {},
   "outputs": [
    {
     "name": "stdout",
     "output_type": "stream",
     "text": [
      "n\n",
      "o\n",
      "h\n",
      "t\n",
      "y\n",
      "P\n"
     ]
    }
   ],
   "source": [
    "mot = \"Python\"\n",
    "mot = reversed(mot)\n",
    "\n",
    "for i in mot:\n",
    "    print(i)"
   ]
  },
  {
   "cell_type": "markdown",
   "metadata": {},
   "source": [
    "# nb mystere v3"
   ]
  },
  {
   "cell_type": "code",
   "execution_count": 17,
   "metadata": {},
   "outputs": [
    {
     "name": "stdout",
     "output_type": "stream",
     "text": [
      "Quel est le nombre mystère ? 5\n",
      "le nombre est plus grand que 5\n",
      "Quel est le nombre mystère ? 50\n",
      "le nombre est plus grand que 50\n",
      "Quel est le nombre mystère ? 60\n",
      "le nombre est plus grand que 60\n",
      "Quel est le nombre mystère ? 70\n",
      "le nombre est plus petit que 70\n",
      "Quel est le nombre mystère ? 65\n",
      "le nombre est plus grand que 65\n",
      "Quel est le nombre mystère ? 67\n",
      "le nombre est plus grand que 67\n",
      "Perdu le nombre mystere etait 68\n"
     ]
    }
   ],
   "source": [
    "import random\n",
    "\n",
    "nb_mystere = random.randrange(100)\n",
    "essaie = 0\n",
    "\n",
    "while essaie <= 5:\n",
    "    nb_user = input(\"Quel est le nombre mystère ? \")\n",
    "\n",
    "    if not nb_user.isdigit():\n",
    "        print(\"Entrez un nombre.\")\n",
    "        exit()\n",
    "    \n",
    "    nb_user = int(nb_user)\n",
    "    \n",
    "    if nb_user > nb_mystere:\n",
    "        print(\"le nombre est plus petit que {}\".format(nb_user))\n",
    "        essaie += 1\n",
    "    elif nb_user < nb_mystere:\n",
    "        print(\"le nombre est plus grand que {}\".format(nb_user))\n",
    "        essaie += 1\n",
    "    else:\n",
    "        print(\"bravo tu as trouver le nombre !! \")\n",
    "        exit()\n",
    "        \n",
    "print('Perdu le nombre mystere etait {}'.format(nb_mystere))"
   ]
  },
  {
   "cell_type": "code",
   "execution_count": 4,
   "metadata": {},
   "outputs": [],
   "source": [
    "ma_liste = [0]"
   ]
  },
  {
   "cell_type": "code",
   "execution_count": 5,
   "metadata": {},
   "outputs": [
    {
     "name": "stdout",
     "output_type": "stream",
     "text": [
      "h l\n"
     ]
    }
   ],
   "source": [
    "print('h','l')"
   ]
  },
  {
   "cell_type": "code",
   "execution_count": 6,
   "metadata": {},
   "outputs": [
    {
     "name": "stdout",
     "output_type": "stream",
     "text": [
      "Vous avez moins de 30 ans.\n",
      "Vous avez moins de 60 ans.\n"
     ]
    }
   ],
   "source": [
    "    age = 12\n",
    "    if age < 12:\n",
    "        print(\"Vous avez moins de 12 ans.\")\n",
    "    if age < 30:\n",
    "        print(\"Vous avez moins de 30 ans.\")\n",
    "    if age < 60:\n",
    "        print(\"Vous avez moins de 60 ans.\")"
   ]
  },
  {
   "cell_type": "code",
   "execution_count": 7,
   "metadata": {},
   "outputs": [
    {
     "data": {
      "text/plain": [
       "False"
      ]
     },
     "execution_count": 7,
     "metadata": {},
     "output_type": "execute_result"
    }
   ],
   "source": [
    "not True and 10 == 10"
   ]
  },
  {
   "cell_type": "code",
   "execution_count": 8,
   "metadata": {},
   "outputs": [
    {
     "name": "stdout",
     "output_type": "stream",
     "text": [
      "Authentification réussie !\n"
     ]
    }
   ],
   "source": [
    "    if not \"root\" != \"root\":\n",
    "        print(\"Authentification réussie !\")"
   ]
  },
  {
   "cell_type": "code",
   "execution_count": 9,
   "metadata": {},
   "outputs": [
    {
     "name": "stdout",
     "output_type": "stream",
     "text": [
      "Vous n'avez pas la moyenne.\n",
      "Vous êtes le meilleur !\n"
     ]
    }
   ],
   "source": [
    "    note = 5\n",
    "    if note < 10:\n",
    "        print(\"Vous n'avez pas la moyenne.\")\n",
    "    if note >= 10 and note < 14:\n",
    "        print(\"Peut mieux faire...\")\n",
    "    if note >= 14 and note < 19:\n",
    "        print(\"Bravo !\")\n",
    "    else:\n",
    "        print(\"Vous êtes le meilleur !\")"
   ]
  },
  {
   "cell_type": "code",
   "execution_count": null,
   "metadata": {},
   "outputs": [],
   "source": []
  }
 ],
 "metadata": {
  "kernelspec": {
   "display_name": "Python 3",
   "language": "python",
   "name": "python3"
  },
  "language_info": {
   "codemirror_mode": {
    "name": "ipython",
    "version": 3
   },
   "file_extension": ".py",
   "mimetype": "text/x-python",
   "name": "python",
   "nbconvert_exporter": "python",
   "pygments_lexer": "ipython3",
   "version": "3.6.5"
  }
 },
 "nbformat": 4,
 "nbformat_minor": 4
}
